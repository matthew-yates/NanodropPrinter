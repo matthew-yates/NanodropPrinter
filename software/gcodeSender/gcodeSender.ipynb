{
 "cells": [
  {
   "cell_type": "code",
   "execution_count": null,
   "id": "4ea8fb01",
   "metadata": {},
   "outputs": [],
   "source": [
    "import numpy as np\n",
    "import serial\n",
    "import time"
   ]
  },
  {
   "cell_type": "code",
   "execution_count": null,
   "id": "d74f3eec",
   "metadata": {},
   "outputs": [],
   "source": [
    "# open serial connection to printer with baud rate of 115200\n",
    "ser = serial.Serial('/dev/ttyACM0', 115200)"
   ]
  },
  {
   "cell_type": "code",
   "execution_count": null,
   "id": "69bef62d",
   "metadata": {},
   "outputs": [],
   "source": [
    "# home XYZ axes\n",
    "# wait for printer movement to stop\n",
    "ser.write(str.encode(\"G28\\r\\n\"))"
   ]
  },
  {
   "cell_type": "code",
   "execution_count": null,
   "id": "e38aeb43",
   "metadata": {},
   "outputs": [],
   "source": [
    "# position after homing (set in firmware)\n",
    "home = np.array([100,100,14.25,0])\n",
    "# open csv file with plot points\n",
    "points = np.loadtxt('plotPoints.csv',delimiter=',',skiprows=1)"
   ]
  },
  {
   "cell_type": "code",
   "execution_count": null,
   "id": "82d15e46",
   "metadata": {},
   "outputs": [],
   "source": [
    "ser.write(str.encode(\"G0 X{:.3f} Y{:.3f} Z{:.3f} E{:.3f}\\r\\n\"\n",
    "                     .format(points[0,0],points[0,1],points[0,2],points[0,3])))\n",
    "if (np.abs(points[0]-home)).argmax(axis=0).argmax(axis=0) == 3:\n",
    "    xyzt = np.amax(np.abs(home-points[0]))/0.7+0.1\n",
    "else:\n",
    "    xyzt = np.amax(np.abs(home-points[0]))/5+0.1\n",
    "time.sleep(xyzt)\n",
    "\n",
    "for i in range(1,len(points[:,0])):\n",
    "    ser.write(str.encode(\"G0 X{:.3f} Y{:.3f} Z{:.3f} E{:.3f}\\r\\n\"\n",
    "                         .format(points[i,0],points[i,1],points[i,2],points[i,3])))\n",
    "    if (np.abs(points[0]-home)).argmax(axis=0).argmax(axis=0) == 3:\n",
    "        xyzt = np.amax(np.abs(points[i]-points[i-1]))/0.7+0.1\n",
    "    else:\n",
    "        xyzt = np.amax(np.abs(points[i]-points[i-1]))/5+0.1\n",
    "    time.sleep(xyzt)"
   ]
  },
  {
   "cell_type": "code",
   "execution_count": null,
   "id": "a15c52af",
   "metadata": {},
   "outputs": [],
   "source": []
  }
 ],
 "metadata": {
  "kernelspec": {
   "display_name": "Python 3 (ipykernel)",
   "language": "python",
   "name": "python3"
  },
  "language_info": {
   "codemirror_mode": {
    "name": "ipython",
    "version": 3
   },
   "file_extension": ".py",
   "mimetype": "text/x-python",
   "name": "python",
   "nbconvert_exporter": "python",
   "pygments_lexer": "ipython3",
   "version": "3.11.2"
  }
 },
 "nbformat": 4,
 "nbformat_minor": 5
}
