{
 "cells": [
  {
   "cell_type": "markdown",
   "id": "50a2e8d9",
   "metadata": {},
   "source": [
    "## Camera calibration\n",
    "\n",
    "Place the micron scale calibration pattern on the printing surface.  Use Guvcview to adjust the USB microscope focus and magnification to give a field of view of roughly 10 mm by 10 mm.  Exit the Guvcview application before running this calibration script."
   ]
  },
  {
   "cell_type": "code",
   "execution_count": null,
   "id": "1b41f0cb",
   "metadata": {},
   "outputs": [],
   "source": [
    "import cv2 as cv\n",
    "import numpy as np"
   ]
  },
  {
   "cell_type": "markdown",
   "id": "ed5796b5",
   "metadata": {},
   "source": [
    "The code cell below captures an image from the USB microscope video stream. This image is named \"calibration.png\" and stored in the current working directory.  The image resolution is set here at 1600x1200.  If it is desired to alter this resolution, check that the new resolution is supported by the camera.  Supported resolutions can be found from a drop down list on Guvcview.  Ignore the harmless warning \"GStreamer warning: Cannot query video position.\"  This warning is because we are capturing from a live video stream, not a video file."
   ]
  },
  {
   "cell_type": "code",
   "execution_count": null,
   "id": "214100d5",
   "metadata": {},
   "outputs": [],
   "source": [
    "video_capture = cv.VideoCapture(0)\n",
    "# Check success\n",
    "if not video_capture.isOpened():\n",
    "    raise Exception(\"Could not open video device\")\n",
    "# Set properties. Each returns === True on success (i.e. correct resolution)\n",
    "video_capture.set(cv.CAP_PROP_FRAME_WIDTH, 1600)\n",
    "video_capture.set(cv.CAP_PROP_FRAME_HEIGHT, 1200)\n",
    "# Read picture. ret === True on success\n",
    "ret, frame = video_capture.read()\n",
    "cv.imwrite('calibration.png',frame)\n",
    "cv.imwrite('calibrationCopy.png',frame)\n",
    "# Close device\n",
    "video_capture.release()"
   ]
  },
  {
   "cell_type": "markdown",
   "id": "284d57c2",
   "metadata": {},
   "source": [
    "The code cell below opens up the captured image in a new window. Take a look and make sure the image is acceptable, then close the window.  \n",
    "\n",
    "If desired, the code cell above can be run again to capture a new image.  The new image file will overwrite the old one."
   ]
  },
  {
   "cell_type": "code",
   "execution_count": null,
   "id": "0474c9ef",
   "metadata": {},
   "outputs": [],
   "source": [
    "img = cv.imread('calibration.png')\n",
    "winname = 'Calibration Image' # set name of window\n",
    "cv.imshow(winname, img)\n",
    "while cv.getWindowProperty(winname, cv.WND_PROP_VISIBLE) > 0:\n",
    "    if cv.waitKey(100) > 0:\n",
    "        break\n",
    "cv.destroyAllWindows()"
   ]
  },
  {
   "cell_type": "markdown",
   "id": "b351e8f1",
   "metadata": {},
   "source": [
    "To calibrate the camera, you will click two points on the image separated by a known distance on the calibration pattern.  The distance between these two points is the calibration scale.  Run the code cell below to set the desired calibration scale in units of millimeters.  The calibration scale should be in the range of 1 mm to 10 mm."
   ]
  },
  {
   "cell_type": "code",
   "execution_count": null,
   "id": "9df9bef1",
   "metadata": {},
   "outputs": [],
   "source": [
    "scale = 0 # zero initial value outide acceptable range\n",
    "while scale>10 or scale<1:# prompt for input between 1 and 10 mm\n",
    "    scale=float(input())"
   ]
  },
  {
   "cell_type": "markdown",
   "id": "9a983b3b",
   "metadata": {},
   "source": [
    "Next, manually click on pairs of points on the calibration image that are separated by the desired scale.  You will be prompted whether to keep or reject the points by pressing Y or N. To obtain a better estimate, this process will be repeated five times, and the results averaged."
   ]
  },
  {
   "cell_type": "code",
   "execution_count": null,
   "id": "2a956433",
   "metadata": {},
   "outputs": [],
   "source": [
    "points = [] # empty lists for adding points marked on image\n",
    "\n",
    "# define function for capturing pair of calibration point coordinates\n",
    "def click_event(event, x, y, flags, param):\n",
    "    if event == cv.EVENT_LBUTTONDOWN:\n",
    "        if len(tpoints)<2:\n",
    "            points.append((x, y))\n",
    "            tpoints.append((x, y))\n",
    "            cv.circle(img, (x, y), 3, (0, 255, 0), -1)\n",
    "            cv.putText(img, str(x) + ',' + str(y), (x+10, y+10), cv.FONT_HERSHEY_COMPLEX,\n",
    "                           0.75, (0, 255, 0), 1)\n",
    "            cv.imshow(winname, img)\n",
    "        else:\n",
    "            cv.putText(img, 'Close this window.', (100, 200), cv.FONT_HERSHEY_COMPLEX,\n",
    "                           0.75, (0, 255, 0), 1)\n",
    "            cv.imshow(winname, img)\n",
    "    return\n",
    "\n",
    "# repeat collecting pairs of calibration points 5 times\n",
    "for i in range(5):\n",
    "    tpoints = []\n",
    "    cv.putText(img, 'Click two points separated by ' + str(scale) + ' mm', (100, 100), cv.FONT_HERSHEY_COMPLEX,\n",
    "                           0.75, (0, 255, 0), 1)\n",
    "    cv.imshow(winname, img)\n",
    "    cv.setMouseCallback(winname, click_event)\n",
    "    while cv.getWindowProperty(winname, cv.WND_PROP_VISIBLE) > 0:\n",
    "        if cv.waitKey(100) > 0:\n",
    "            break\n",
    "    cv.destroyAllWindows()\n",
    "    img = cv.imread('calibrationCopy.png') # overwrite modified image with old one\n",
    "    cv.imwrite('calibration.png',img)\n",
    "\n",
    "# convert list of cellected points into numpy array\n",
    "pointsnp = np.asarray(points)"
   ]
  },
  {
   "cell_type": "code",
   "execution_count": null,
   "id": "42aa72a4",
   "metadata": {},
   "outputs": [],
   "source": [
    "pixdist = np.zeros(5) # create empty array for storing distance between points in pixels\n",
    "n = 0\n",
    "for i in range(0,len(pointsnp),2):\n",
    "    pixdist[n] = ((pointsnp[i,0]-pointsnp[i+1,0])**2+(pointsnp[i,1]-pointsnp[i+1,1])**2)**0.5\n",
    "    n+=1\n",
    "\n",
    "calscale = 1000*(scale/pixdist) # calibration scale in microns per pixel\n",
    "\n",
    "np.savetxt('calscale.csv',np.array([np.mean(calscale)]))\n",
    "\n",
    "print('Measured distanced (in pixels) between 5 pairs of points selected.')\n",
    "print(pixdist)"
   ]
  },
  {
   "cell_type": "code",
   "execution_count": null,
   "id": "ad90d38a",
   "metadata": {},
   "outputs": [],
   "source": [
    "print('Measured pixels per mm:')\n",
    "print('     mean =',np.mean(pixdist/scale))\n",
    "print('     maximum =',np.amax(pixdist/scale))\n",
    "print('     minimum =',np.amin(pixdist/scale))\n",
    "print('     standard deviation =',np.std(pixdist/scale,ddof=1))\n",
    "print(' ')\n",
    "print('Mean value gives a scale of {:.1f} microns per pixel.'.format(np.mean(calscale)))"
   ]
  },
  {
   "cell_type": "markdown",
   "id": "b9cf6ec6",
   "metadata": {},
   "source": [
    "If these values are acceptable, the calscale variable (mean measured microns per pixel) is saved in the current directory as a csv file named 'calscale.csv'. The calibration scale can be imported from this file for taking position measurements from images.\n",
    "\n",
    "If there are any outliers in the measured calbration values, repeat the calibration process by re-running this notebook.  The calscale.csv file will be overwritten each time this Jupyter notebook is run."
   ]
  },
  {
   "cell_type": "code",
   "execution_count": null,
   "id": "41e9b99a",
   "metadata": {},
   "outputs": [],
   "source": []
  }
 ],
 "metadata": {
  "kernelspec": {
   "display_name": "Python 3 (ipykernel)",
   "language": "python",
   "name": "python3"
  },
  "language_info": {
   "codemirror_mode": {
    "name": "ipython",
    "version": 3
   },
   "file_extension": ".py",
   "mimetype": "text/x-python",
   "name": "python",
   "nbconvert_exporter": "python",
   "pygments_lexer": "ipython3",
   "version": "3.11.2"
  }
 },
 "nbformat": 4,
 "nbformat_minor": 5
}
