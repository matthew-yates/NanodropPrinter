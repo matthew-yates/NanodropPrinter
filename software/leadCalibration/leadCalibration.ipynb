{
 "cells": [
  {
   "cell_type": "code",
   "execution_count": null,
   "id": "4ea8fb01",
   "metadata": {},
   "outputs": [],
   "source": [
    "import serial\n",
    "\n",
    "## On Linux, device is typically ttyACM0. Can be confirmed with \"dmesg\" command run as root.\n",
    "\n",
    "ser = serial.Serial('/dev/ttyACM0', 115200)\n",
    "\n",
    "## NOTE: After executing each code cell below wait for machine movement to stop\n",
    "## before executing the next code cell. Sending too many serial commands quickly \n",
    "## will fill buffer and cause commands to be skipped."
   ]
  },
  {
   "cell_type": "code",
   "execution_count": null,
   "id": "542123a7",
   "metadata": {},
   "outputs": [],
   "source": [
    "# home all axes\n",
    "ser.write(str.encode(\"G28\\r\\n\"))"
   ]
  },
  {
   "cell_type": "code",
   "execution_count": null,
   "id": "2201dba3",
   "metadata": {},
   "outputs": [],
   "source": [
    "# move near start position\n",
    "ser.write(str.encode(\"G0 X20 Y20 Z10\\r\\n\"))"
   ]
  },
  {
   "cell_type": "code",
   "execution_count": null,
   "id": "9bb0dd9a",
   "metadata": {},
   "outputs": [],
   "source": [
    "# plot 170 mm square\n",
    "ser.write(str.encode(\"G0 X25 Y25 Z10\\r\\n\"))\n",
    "ser.write(str.encode(\"G0 X25 Y25 Z0\\r\\n\"))\n",
    "ser.write(str.encode(\"G0 X25 Y195 Z0\\r\\n\"))\n",
    "ser.write(str.encode(\"G0 X195 Y195 Z0\\r\\n\"))\n",
    "ser.write(str.encode(\"G0 X195 Y25 Z0\\r\\n\"))\n",
    "ser.write(str.encode(\"G0 X25 Y25 Z0\\r\\n\"))\n",
    "ser.write(str.encode(\"G0 X25 Y25 Z10\\r\\n\"))"
   ]
  },
  {
   "cell_type": "code",
   "execution_count": null,
   "id": "b256335a",
   "metadata": {},
   "outputs": [],
   "source": [
    "# plot 120 mm square\n",
    "ser.write(str.encode(\"G0 X50 Y50 Z10\\r\\n\"))\n",
    "ser.write(str.encode(\"G0 X50 Y50 Z0\\r\\n\"))\n",
    "ser.write(str.encode(\"G0 X50 Y170 Z0\\r\\n\"))\n",
    "ser.write(str.encode(\"G0 X170 Y170 Z0\\r\\n\"))\n",
    "ser.write(str.encode(\"G0 X170 Y50 Z0\\r\\n\"))\n",
    "ser.write(str.encode(\"G0 X50 Y50 Z0\\r\\n\"))\n",
    "ser.write(str.encode(\"G0 X50 Y50 Z10\\r\\n\"))"
   ]
  },
  {
   "cell_type": "code",
   "execution_count": null,
   "id": "c16a3cb2",
   "metadata": {},
   "outputs": [],
   "source": [
    "# plot 70 mm square\n",
    "ser.write(str.encode(\"G0 X75 Y75 Z10\\r\\n\"))\n",
    "ser.write(str.encode(\"G0 X75 Y75 Z0\\r\\n\"))\n",
    "ser.write(str.encode(\"G0 X75 Y145 Z0\\r\\n\"))\n",
    "ser.write(str.encode(\"G0 X145 Y145 Z0\\r\\n\"))\n",
    "ser.write(str.encode(\"G0 X145 Y75 Z0\\r\\n\"))\n",
    "ser.write(str.encode(\"G0 X75 Y75 Z0\\r\\n\"))\n",
    "ser.write(str.encode(\"G0 X75 Y75 Z10\\r\\n\"))"
   ]
  },
  {
   "cell_type": "code",
   "execution_count": null,
   "id": "1fb34b1d",
   "metadata": {},
   "outputs": [],
   "source": [
    "# plot 20 mm square\n",
    "ser.write(str.encode(\"G0 X100 Y100 Z10\\r\\n\"))\n",
    "ser.write(str.encode(\"G0 X100 Y100 Z0\\r\\n\"))\n",
    "ser.write(str.encode(\"G0 X100 Y120 Z0\\r\\n\"))\n",
    "ser.write(str.encode(\"G0 X120 Y120 Z0\\r\\n\"))\n",
    "ser.write(str.encode(\"G0 X120 Y100 Z0\\r\\n\"))\n",
    "ser.write(str.encode(\"G0 X100 Y100 Z0\\r\\n\"))\n",
    "ser.write(str.encode(\"G0 X100 Y100 Z10\\r\\n\"))"
   ]
  },
  {
   "cell_type": "code",
   "execution_count": null,
   "id": "3e73df8a",
   "metadata": {},
   "outputs": [],
   "source": []
  }
 ],
 "metadata": {
  "kernelspec": {
   "display_name": "Python 3 (ipykernel)",
   "language": "python",
   "name": "python3"
  },
  "language_info": {
   "codemirror_mode": {
    "name": "ipython",
    "version": 3
   },
   "file_extension": ".py",
   "mimetype": "text/x-python",
   "name": "python",
   "nbconvert_exporter": "python",
   "pygments_lexer": "ipython3",
   "version": "3.11.2"
  }
 },
 "nbformat": 4,
 "nbformat_minor": 5
}
