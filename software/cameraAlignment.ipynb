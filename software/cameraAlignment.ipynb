{
 "cells": [
  {
   "cell_type": "code",
   "execution_count": null,
   "id": "44e4a026",
   "metadata": {},
   "outputs": [],
   "source": [
    "# modified from: https://stackoverflow.com/questions/39785476/draw-line-on-webcam-stream-python\n",
    "import cv2 as cv\n",
    "cv.namedWindow(\"preview\")\n",
    "vc = cv.VideoCapture(0)\n",
    "\n",
    "if vc.isOpened(): # try to get the first frame\n",
    "    rval, frame = vc.read()\n",
    "else:\n",
    "    rval = False\n",
    "\n",
    "while rval:\n",
    "    cv.imshow(\"preview\", frame)\n",
    "    rval, frame = vc.read()\n",
    "    key = cv.waitKey(20)\n",
    "    if key == 27: # exit on ESC\n",
    "        break\n",
    "    else:\n",
    "        cv.line(img=frame, pt1=(400, 10), pt2=(400, 1190), color=(255, 0, 0), thickness=5, lineType=8, shift=0)\n",
    "        cv.line(img=frame, pt1=(10, 100), pt2=(1590, 100), color=(255, 0, 0), thickness=5, lineType=8, shift=0)\n",
    "\n",
    "vc.release()\n",
    "cv.destroyWindow(\"preview\")  "
   ]
  },
  {
   "cell_type": "code",
   "execution_count": null,
   "id": "7f972703",
   "metadata": {},
   "outputs": [],
   "source": []
  }
 ],
 "metadata": {
  "kernelspec": {
   "display_name": "Python 3 (ipykernel)",
   "language": "python",
   "name": "python3"
  },
  "language_info": {
   "codemirror_mode": {
    "name": "ipython",
    "version": 3
   },
   "file_extension": ".py",
   "mimetype": "text/x-python",
   "name": "python",
   "nbconvert_exporter": "python",
   "pygments_lexer": "ipython3",
   "version": "3.11.2"
  }
 },
 "nbformat": 4,
 "nbformat_minor": 5
}
